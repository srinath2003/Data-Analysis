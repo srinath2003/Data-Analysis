{
 "cells": [
  {
   "cell_type": "markdown",
   "id": "41cec3b9",
   "metadata": {},
   "source": [
    "## Data Dictionary\n",
    " -- id (Unique id for each patient)\n",
    "-- age (Age of the patient in years)\n",
    "-- origin (place of study)\n",
    "-- sex (Male/Female)\n",
    "-- cp chest pain type ([typical angina, atypical angina, non-anginal, asymptomatic])\n",
    "-- trestbps resting blood pressure (resting blood pressure (in mm Hg on admission to the hospital))\n",
    "-- chol (serum cholesterol in mg/dl)\n",
    "-- fbs (if fasting blood sugar > 120 mg/dl)\n",
    "-- restecg (resting electrocardiographic results)\n",
    "-- Values: [normal, stt abnormality, lv hypertrophy]\n",
    "-- thalach: maximum heart rate achieved\n",
    "-- exang: exercise-induced angina (True/ False)\n",
    "-- oldpeak: ST depression induced by exercise relative to rest\n",
    "-- slope: the slope of the peak exercise ST segment\n",
    "-- ca: number of major vessels (0-3) colored by fluoroscopy\n",
    "-- thal: [normal; fixed defect; reversible defect]\n",
    "-- num: the predicted attribute"
   ]
  },
  {
   "cell_type": "markdown",
   "id": "bf4b46ea",
   "metadata": {},
   "source": [
    "## Importing libraries"
   ]
  },
  {
   "cell_type": "code",
   "execution_count": 91,
   "id": "a1c9c91a",
   "metadata": {},
   "outputs": [],
   "source": [
    "import pandas as pd\n",
    "\n",
    "import seaborn as sns\n",
    "import matplotlib.pyplot as plt"
   ]
  },
  {
   "cell_type": "code",
   "execution_count": 92,
   "id": "16711975",
   "metadata": {},
   "outputs": [],
   "source": [
    "df = pd.read_csv(\"heart_disease.csv\")"
   ]
  },
  {
   "cell_type": "code",
   "execution_count": 93,
   "id": "fd141d5f",
   "metadata": {},
   "outputs": [
    {
     "data": {
      "text/html": [
       "<div>\n",
       "<style scoped>\n",
       "    .dataframe tbody tr th:only-of-type {\n",
       "        vertical-align: middle;\n",
       "    }\n",
       "\n",
       "    .dataframe tbody tr th {\n",
       "        vertical-align: top;\n",
       "    }\n",
       "\n",
       "    .dataframe thead th {\n",
       "        text-align: right;\n",
       "    }\n",
       "</style>\n",
       "<table border=\"1\" class=\"dataframe\">\n",
       "  <thead>\n",
       "    <tr style=\"text-align: right;\">\n",
       "      <th></th>\n",
       "      <th>id</th>\n",
       "      <th>age</th>\n",
       "      <th>sex</th>\n",
       "      <th>dataset</th>\n",
       "      <th>cp</th>\n",
       "      <th>trestbps</th>\n",
       "      <th>chol</th>\n",
       "      <th>fbs</th>\n",
       "      <th>restecg</th>\n",
       "      <th>thalch</th>\n",
       "      <th>exang</th>\n",
       "      <th>oldpeak</th>\n",
       "      <th>slope</th>\n",
       "      <th>ca</th>\n",
       "      <th>thal</th>\n",
       "      <th>num</th>\n",
       "    </tr>\n",
       "  </thead>\n",
       "  <tbody>\n",
       "    <tr>\n",
       "      <th>0</th>\n",
       "      <td>1</td>\n",
       "      <td>63</td>\n",
       "      <td>Male</td>\n",
       "      <td>Cleveland</td>\n",
       "      <td>typical angina</td>\n",
       "      <td>145.0</td>\n",
       "      <td>233.0</td>\n",
       "      <td>True</td>\n",
       "      <td>lv hypertrophy</td>\n",
       "      <td>150.0</td>\n",
       "      <td>False</td>\n",
       "      <td>2.3</td>\n",
       "      <td>downsloping</td>\n",
       "      <td>0.0</td>\n",
       "      <td>fixed defect</td>\n",
       "      <td>0</td>\n",
       "    </tr>\n",
       "    <tr>\n",
       "      <th>1</th>\n",
       "      <td>2</td>\n",
       "      <td>67</td>\n",
       "      <td>Male</td>\n",
       "      <td>Cleveland</td>\n",
       "      <td>asymptomatic</td>\n",
       "      <td>160.0</td>\n",
       "      <td>286.0</td>\n",
       "      <td>False</td>\n",
       "      <td>lv hypertrophy</td>\n",
       "      <td>108.0</td>\n",
       "      <td>True</td>\n",
       "      <td>1.5</td>\n",
       "      <td>flat</td>\n",
       "      <td>3.0</td>\n",
       "      <td>normal</td>\n",
       "      <td>2</td>\n",
       "    </tr>\n",
       "    <tr>\n",
       "      <th>2</th>\n",
       "      <td>3</td>\n",
       "      <td>67</td>\n",
       "      <td>Male</td>\n",
       "      <td>Cleveland</td>\n",
       "      <td>asymptomatic</td>\n",
       "      <td>120.0</td>\n",
       "      <td>229.0</td>\n",
       "      <td>False</td>\n",
       "      <td>lv hypertrophy</td>\n",
       "      <td>129.0</td>\n",
       "      <td>True</td>\n",
       "      <td>2.6</td>\n",
       "      <td>flat</td>\n",
       "      <td>2.0</td>\n",
       "      <td>reversable defect</td>\n",
       "      <td>1</td>\n",
       "    </tr>\n",
       "    <tr>\n",
       "      <th>3</th>\n",
       "      <td>4</td>\n",
       "      <td>37</td>\n",
       "      <td>Male</td>\n",
       "      <td>Cleveland</td>\n",
       "      <td>non-anginal</td>\n",
       "      <td>130.0</td>\n",
       "      <td>250.0</td>\n",
       "      <td>False</td>\n",
       "      <td>normal</td>\n",
       "      <td>187.0</td>\n",
       "      <td>False</td>\n",
       "      <td>3.5</td>\n",
       "      <td>downsloping</td>\n",
       "      <td>0.0</td>\n",
       "      <td>normal</td>\n",
       "      <td>0</td>\n",
       "    </tr>\n",
       "    <tr>\n",
       "      <th>4</th>\n",
       "      <td>5</td>\n",
       "      <td>41</td>\n",
       "      <td>Female</td>\n",
       "      <td>Cleveland</td>\n",
       "      <td>atypical angina</td>\n",
       "      <td>130.0</td>\n",
       "      <td>204.0</td>\n",
       "      <td>False</td>\n",
       "      <td>lv hypertrophy</td>\n",
       "      <td>172.0</td>\n",
       "      <td>False</td>\n",
       "      <td>1.4</td>\n",
       "      <td>upsloping</td>\n",
       "      <td>0.0</td>\n",
       "      <td>normal</td>\n",
       "      <td>0</td>\n",
       "    </tr>\n",
       "  </tbody>\n",
       "</table>\n",
       "</div>"
      ],
      "text/plain": [
       "   id  age     sex    dataset               cp  trestbps   chol    fbs  \\\n",
       "0   1   63    Male  Cleveland   typical angina     145.0  233.0   True   \n",
       "1   2   67    Male  Cleveland     asymptomatic     160.0  286.0  False   \n",
       "2   3   67    Male  Cleveland     asymptomatic     120.0  229.0  False   \n",
       "3   4   37    Male  Cleveland      non-anginal     130.0  250.0  False   \n",
       "4   5   41  Female  Cleveland  atypical angina     130.0  204.0  False   \n",
       "\n",
       "          restecg  thalch  exang  oldpeak        slope   ca  \\\n",
       "0  lv hypertrophy   150.0  False      2.3  downsloping  0.0   \n",
       "1  lv hypertrophy   108.0   True      1.5         flat  3.0   \n",
       "2  lv hypertrophy   129.0   True      2.6         flat  2.0   \n",
       "3          normal   187.0  False      3.5  downsloping  0.0   \n",
       "4  lv hypertrophy   172.0  False      1.4    upsloping  0.0   \n",
       "\n",
       "                thal  num  \n",
       "0       fixed defect    0  \n",
       "1             normal    2  \n",
       "2  reversable defect    1  \n",
       "3             normal    0  \n",
       "4             normal    0  "
      ]
     },
     "execution_count": 93,
     "metadata": {},
     "output_type": "execute_result"
    }
   ],
   "source": [
    "df.head()"
   ]
  },
  {
   "cell_type": "code",
   "execution_count": 94,
   "id": "b4296a39",
   "metadata": {},
   "outputs": [
    {
     "data": {
      "text/plain": [
       "<bound method DataFrame.info of       id  age     sex        dataset               cp  trestbps   chol    fbs  \\\n",
       "0      1   63    Male      Cleveland   typical angina     145.0  233.0   True   \n",
       "1      2   67    Male      Cleveland     asymptomatic     160.0  286.0  False   \n",
       "2      3   67    Male      Cleveland     asymptomatic     120.0  229.0  False   \n",
       "3      4   37    Male      Cleveland      non-anginal     130.0  250.0  False   \n",
       "4      5   41  Female      Cleveland  atypical angina     130.0  204.0  False   \n",
       "..   ...  ...     ...            ...              ...       ...    ...    ...   \n",
       "915  916   54  Female  VA Long Beach     asymptomatic     127.0  333.0   True   \n",
       "916  917   62    Male  VA Long Beach   typical angina       NaN  139.0  False   \n",
       "917  918   55    Male  VA Long Beach     asymptomatic     122.0  223.0   True   \n",
       "918  919   58    Male  VA Long Beach     asymptomatic       NaN  385.0   True   \n",
       "919  920   62    Male  VA Long Beach  atypical angina     120.0  254.0  False   \n",
       "\n",
       "              restecg  thalch  exang  oldpeak        slope   ca  \\\n",
       "0      lv hypertrophy   150.0  False      2.3  downsloping  0.0   \n",
       "1      lv hypertrophy   108.0   True      1.5         flat  3.0   \n",
       "2      lv hypertrophy   129.0   True      2.6         flat  2.0   \n",
       "3              normal   187.0  False      3.5  downsloping  0.0   \n",
       "4      lv hypertrophy   172.0  False      1.4    upsloping  0.0   \n",
       "..                ...     ...    ...      ...          ...  ...   \n",
       "915  st-t abnormality   154.0  False      0.0          NaN  NaN   \n",
       "916  st-t abnormality     NaN    NaN      NaN          NaN  NaN   \n",
       "917  st-t abnormality   100.0  False      0.0          NaN  NaN   \n",
       "918    lv hypertrophy     NaN    NaN      NaN          NaN  NaN   \n",
       "919    lv hypertrophy    93.0   True      0.0          NaN  NaN   \n",
       "\n",
       "                  thal  num  \n",
       "0         fixed defect    0  \n",
       "1               normal    2  \n",
       "2    reversable defect    1  \n",
       "3               normal    0  \n",
       "4               normal    0  \n",
       "..                 ...  ...  \n",
       "915                NaN    1  \n",
       "916                NaN    0  \n",
       "917       fixed defect    2  \n",
       "918                NaN    0  \n",
       "919                NaN    1  \n",
       "\n",
       "[920 rows x 16 columns]>"
      ]
     },
     "execution_count": 94,
     "metadata": {},
     "output_type": "execute_result"
    }
   ],
   "source": [
    "df.info"
   ]
  },
  {
   "cell_type": "code",
   "execution_count": 95,
   "id": "fd48f061",
   "metadata": {},
   "outputs": [
    {
     "data": {
      "text/html": [
       "<div>\n",
       "<style scoped>\n",
       "    .dataframe tbody tr th:only-of-type {\n",
       "        vertical-align: middle;\n",
       "    }\n",
       "\n",
       "    .dataframe tbody tr th {\n",
       "        vertical-align: top;\n",
       "    }\n",
       "\n",
       "    .dataframe thead th {\n",
       "        text-align: right;\n",
       "    }\n",
       "</style>\n",
       "<table border=\"1\" class=\"dataframe\">\n",
       "  <thead>\n",
       "    <tr style=\"text-align: right;\">\n",
       "      <th></th>\n",
       "      <th>id</th>\n",
       "      <th>age</th>\n",
       "      <th>trestbps</th>\n",
       "      <th>chol</th>\n",
       "      <th>thalch</th>\n",
       "      <th>oldpeak</th>\n",
       "      <th>ca</th>\n",
       "      <th>num</th>\n",
       "    </tr>\n",
       "  </thead>\n",
       "  <tbody>\n",
       "    <tr>\n",
       "      <th>count</th>\n",
       "      <td>920.000000</td>\n",
       "      <td>920.000000</td>\n",
       "      <td>861.000000</td>\n",
       "      <td>890.000000</td>\n",
       "      <td>865.000000</td>\n",
       "      <td>858.000000</td>\n",
       "      <td>309.000000</td>\n",
       "      <td>920.000000</td>\n",
       "    </tr>\n",
       "    <tr>\n",
       "      <th>mean</th>\n",
       "      <td>460.500000</td>\n",
       "      <td>53.510870</td>\n",
       "      <td>132.132404</td>\n",
       "      <td>199.130337</td>\n",
       "      <td>137.545665</td>\n",
       "      <td>0.878788</td>\n",
       "      <td>0.676375</td>\n",
       "      <td>0.995652</td>\n",
       "    </tr>\n",
       "    <tr>\n",
       "      <th>std</th>\n",
       "      <td>265.725422</td>\n",
       "      <td>9.424685</td>\n",
       "      <td>19.066070</td>\n",
       "      <td>110.780810</td>\n",
       "      <td>25.926276</td>\n",
       "      <td>1.091226</td>\n",
       "      <td>0.935653</td>\n",
       "      <td>1.142693</td>\n",
       "    </tr>\n",
       "    <tr>\n",
       "      <th>min</th>\n",
       "      <td>1.000000</td>\n",
       "      <td>28.000000</td>\n",
       "      <td>0.000000</td>\n",
       "      <td>0.000000</td>\n",
       "      <td>60.000000</td>\n",
       "      <td>-2.600000</td>\n",
       "      <td>0.000000</td>\n",
       "      <td>0.000000</td>\n",
       "    </tr>\n",
       "    <tr>\n",
       "      <th>25%</th>\n",
       "      <td>230.750000</td>\n",
       "      <td>47.000000</td>\n",
       "      <td>120.000000</td>\n",
       "      <td>175.000000</td>\n",
       "      <td>120.000000</td>\n",
       "      <td>0.000000</td>\n",
       "      <td>0.000000</td>\n",
       "      <td>0.000000</td>\n",
       "    </tr>\n",
       "    <tr>\n",
       "      <th>50%</th>\n",
       "      <td>460.500000</td>\n",
       "      <td>54.000000</td>\n",
       "      <td>130.000000</td>\n",
       "      <td>223.000000</td>\n",
       "      <td>140.000000</td>\n",
       "      <td>0.500000</td>\n",
       "      <td>0.000000</td>\n",
       "      <td>1.000000</td>\n",
       "    </tr>\n",
       "    <tr>\n",
       "      <th>75%</th>\n",
       "      <td>690.250000</td>\n",
       "      <td>60.000000</td>\n",
       "      <td>140.000000</td>\n",
       "      <td>268.000000</td>\n",
       "      <td>157.000000</td>\n",
       "      <td>1.500000</td>\n",
       "      <td>1.000000</td>\n",
       "      <td>2.000000</td>\n",
       "    </tr>\n",
       "    <tr>\n",
       "      <th>max</th>\n",
       "      <td>920.000000</td>\n",
       "      <td>77.000000</td>\n",
       "      <td>200.000000</td>\n",
       "      <td>603.000000</td>\n",
       "      <td>202.000000</td>\n",
       "      <td>6.200000</td>\n",
       "      <td>3.000000</td>\n",
       "      <td>4.000000</td>\n",
       "    </tr>\n",
       "  </tbody>\n",
       "</table>\n",
       "</div>"
      ],
      "text/plain": [
       "               id         age    trestbps        chol      thalch     oldpeak  \\\n",
       "count  920.000000  920.000000  861.000000  890.000000  865.000000  858.000000   \n",
       "mean   460.500000   53.510870  132.132404  199.130337  137.545665    0.878788   \n",
       "std    265.725422    9.424685   19.066070  110.780810   25.926276    1.091226   \n",
       "min      1.000000   28.000000    0.000000    0.000000   60.000000   -2.600000   \n",
       "25%    230.750000   47.000000  120.000000  175.000000  120.000000    0.000000   \n",
       "50%    460.500000   54.000000  130.000000  223.000000  140.000000    0.500000   \n",
       "75%    690.250000   60.000000  140.000000  268.000000  157.000000    1.500000   \n",
       "max    920.000000   77.000000  200.000000  603.000000  202.000000    6.200000   \n",
       "\n",
       "               ca         num  \n",
       "count  309.000000  920.000000  \n",
       "mean     0.676375    0.995652  \n",
       "std      0.935653    1.142693  \n",
       "min      0.000000    0.000000  \n",
       "25%      0.000000    0.000000  \n",
       "50%      0.000000    1.000000  \n",
       "75%      1.000000    2.000000  \n",
       "max      3.000000    4.000000  "
      ]
     },
     "execution_count": 95,
     "metadata": {},
     "output_type": "execute_result"
    }
   ],
   "source": [
    "df.describe()"
   ]
  },
  {
   "cell_type": "code",
   "execution_count": 96,
   "id": "34e06492",
   "metadata": {},
   "outputs": [
    {
     "data": {
      "text/plain": [
       "Index(['id', 'age', 'sex', 'dataset', 'cp', 'trestbps', 'chol', 'fbs',\n",
       "       'restecg', 'thalch', 'exang', 'oldpeak', 'slope', 'ca', 'thal', 'num'],\n",
       "      dtype='object')"
      ]
     },
     "execution_count": 96,
     "metadata": {},
     "output_type": "execute_result"
    }
   ],
   "source": [
    "df.columns"
   ]
  },
  {
   "cell_type": "code",
   "execution_count": 97,
   "id": "033cf140",
   "metadata": {},
   "outputs": [
    {
     "data": {
      "text/plain": [
       "id          920\n",
       "age          50\n",
       "sex           2\n",
       "dataset       4\n",
       "cp            4\n",
       "trestbps     61\n",
       "chol        217\n",
       "fbs           2\n",
       "restecg       3\n",
       "thalch      119\n",
       "exang         2\n",
       "oldpeak      53\n",
       "slope         3\n",
       "ca            4\n",
       "thal          3\n",
       "num           5\n",
       "dtype: int64"
      ]
     },
     "execution_count": 97,
     "metadata": {},
     "output_type": "execute_result"
    }
   ],
   "source": [
    "df.nunique()"
   ]
  },
  {
   "cell_type": "code",
   "execution_count": 98,
   "id": "a2e7f836",
   "metadata": {},
   "outputs": [
    {
     "data": {
      "text/plain": [
       "id            0\n",
       "age           0\n",
       "sex           0\n",
       "dataset       0\n",
       "cp            0\n",
       "trestbps     59\n",
       "chol         30\n",
       "fbs          90\n",
       "restecg       2\n",
       "thalch       55\n",
       "exang        55\n",
       "oldpeak      62\n",
       "slope       309\n",
       "ca          611\n",
       "thal        486\n",
       "num           0\n",
       "dtype: int64"
      ]
     },
     "execution_count": 98,
     "metadata": {},
     "output_type": "execute_result"
    }
   ],
   "source": [
    "df.isnull().sum()"
   ]
  },
  {
   "cell_type": "code",
   "execution_count": 99,
   "id": "efc264f1",
   "metadata": {},
   "outputs": [],
   "source": [
    "# Filling categorical columns with mode\n",
    "df['fbs'].fillna(df['fbs'].mode()[0], inplace=True)\n",
    "df['restecg'].fillna(df['restecg'].mode()[0], inplace=True)\n",
    "df['exang'].fillna(df['exang'].mode()[0], inplace=True)\n"
   ]
  },
  {
   "cell_type": "code",
   "execution_count": 100,
   "id": "0f4e62e5",
   "metadata": {},
   "outputs": [],
   "source": [
    "# Filling numerical columns with mean or median\n",
    "df['trestbps'].fillna(df['trestbps'].mean(), inplace=True)\n",
    "df['chol'].fillna(df['chol'].median(), inplace=True)\n",
    "df['thalch'].fillna(df['thalch'].mean(), inplace=True)\n",
    "df['oldpeak'].fillna(df['oldpeak'].median(), inplace=True)\n"
   ]
  },
  {
   "cell_type": "code",
   "execution_count": 101,
   "id": "d5951b83",
   "metadata": {},
   "outputs": [],
   "source": [
    "# Drop specific columns by name\n",
    "df = df.drop(['slope', 'ca', 'thal'], axis=1)\n"
   ]
  },
  {
   "cell_type": "code",
   "execution_count": 102,
   "id": "df023168",
   "metadata": {},
   "outputs": [
    {
     "data": {
      "text/plain": [
       "id          0\n",
       "age         0\n",
       "sex         0\n",
       "dataset     0\n",
       "cp          0\n",
       "trestbps    0\n",
       "chol        0\n",
       "fbs         0\n",
       "restecg     0\n",
       "thalch      0\n",
       "exang       0\n",
       "oldpeak     0\n",
       "num         0\n",
       "dtype: int64"
      ]
     },
     "execution_count": 102,
     "metadata": {},
     "output_type": "execute_result"
    }
   ],
   "source": [
    "df.isnull().sum()"
   ]
  },
  {
   "cell_type": "code",
   "execution_count": 103,
   "id": "44e2515f",
   "metadata": {},
   "outputs": [],
   "source": [
    "# Convert all boolean columns to integer\n",
    "df[df.select_dtypes('bool').columns] = df.select_dtypes('bool').astype(int)\n"
   ]
  },
  {
   "cell_type": "code",
   "execution_count": 104,
   "id": "0ea57755",
   "metadata": {},
   "outputs": [
    {
     "data": {
      "text/html": [
       "<div>\n",
       "<style scoped>\n",
       "    .dataframe tbody tr th:only-of-type {\n",
       "        vertical-align: middle;\n",
       "    }\n",
       "\n",
       "    .dataframe tbody tr th {\n",
       "        vertical-align: top;\n",
       "    }\n",
       "\n",
       "    .dataframe thead th {\n",
       "        text-align: right;\n",
       "    }\n",
       "</style>\n",
       "<table border=\"1\" class=\"dataframe\">\n",
       "  <thead>\n",
       "    <tr style=\"text-align: right;\">\n",
       "      <th></th>\n",
       "      <th>id</th>\n",
       "      <th>age</th>\n",
       "      <th>fbs</th>\n",
       "      <th>exang</th>\n",
       "      <th>num</th>\n",
       "    </tr>\n",
       "  </thead>\n",
       "  <tbody>\n",
       "    <tr>\n",
       "      <th>0</th>\n",
       "      <td>1</td>\n",
       "      <td>63</td>\n",
       "      <td>1</td>\n",
       "      <td>0</td>\n",
       "      <td>0</td>\n",
       "    </tr>\n",
       "    <tr>\n",
       "      <th>1</th>\n",
       "      <td>2</td>\n",
       "      <td>67</td>\n",
       "      <td>0</td>\n",
       "      <td>1</td>\n",
       "      <td>2</td>\n",
       "    </tr>\n",
       "    <tr>\n",
       "      <th>2</th>\n",
       "      <td>3</td>\n",
       "      <td>67</td>\n",
       "      <td>0</td>\n",
       "      <td>1</td>\n",
       "      <td>1</td>\n",
       "    </tr>\n",
       "    <tr>\n",
       "      <th>3</th>\n",
       "      <td>4</td>\n",
       "      <td>37</td>\n",
       "      <td>0</td>\n",
       "      <td>0</td>\n",
       "      <td>0</td>\n",
       "    </tr>\n",
       "    <tr>\n",
       "      <th>4</th>\n",
       "      <td>5</td>\n",
       "      <td>41</td>\n",
       "      <td>0</td>\n",
       "      <td>0</td>\n",
       "      <td>0</td>\n",
       "    </tr>\n",
       "    <tr>\n",
       "      <th>...</th>\n",
       "      <td>...</td>\n",
       "      <td>...</td>\n",
       "      <td>...</td>\n",
       "      <td>...</td>\n",
       "      <td>...</td>\n",
       "    </tr>\n",
       "    <tr>\n",
       "      <th>915</th>\n",
       "      <td>916</td>\n",
       "      <td>54</td>\n",
       "      <td>1</td>\n",
       "      <td>0</td>\n",
       "      <td>1</td>\n",
       "    </tr>\n",
       "    <tr>\n",
       "      <th>916</th>\n",
       "      <td>917</td>\n",
       "      <td>62</td>\n",
       "      <td>0</td>\n",
       "      <td>0</td>\n",
       "      <td>0</td>\n",
       "    </tr>\n",
       "    <tr>\n",
       "      <th>917</th>\n",
       "      <td>918</td>\n",
       "      <td>55</td>\n",
       "      <td>1</td>\n",
       "      <td>0</td>\n",
       "      <td>2</td>\n",
       "    </tr>\n",
       "    <tr>\n",
       "      <th>918</th>\n",
       "      <td>919</td>\n",
       "      <td>58</td>\n",
       "      <td>1</td>\n",
       "      <td>0</td>\n",
       "      <td>0</td>\n",
       "    </tr>\n",
       "    <tr>\n",
       "      <th>919</th>\n",
       "      <td>920</td>\n",
       "      <td>62</td>\n",
       "      <td>0</td>\n",
       "      <td>1</td>\n",
       "      <td>1</td>\n",
       "    </tr>\n",
       "  </tbody>\n",
       "</table>\n",
       "<p>920 rows × 5 columns</p>\n",
       "</div>"
      ],
      "text/plain": [
       "      id  age  fbs  exang  num\n",
       "0      1   63    1      0    0\n",
       "1      2   67    0      1    2\n",
       "2      3   67    0      1    1\n",
       "3      4   37    0      0    0\n",
       "4      5   41    0      0    0\n",
       "..   ...  ...  ...    ...  ...\n",
       "915  916   54    1      0    1\n",
       "916  917   62    0      0    0\n",
       "917  918   55    1      0    2\n",
       "918  919   58    1      0    0\n",
       "919  920   62    0      1    1\n",
       "\n",
       "[920 rows x 5 columns]"
      ]
     },
     "execution_count": 104,
     "metadata": {},
     "output_type": "execute_result"
    }
   ],
   "source": [
    "df_num = df.select_dtypes('int')\n",
    "df_num"
   ]
  },
  {
   "cell_type": "code",
   "execution_count": 105,
   "id": "aba9b116",
   "metadata": {},
   "outputs": [
    {
     "data": {
      "text/html": [
       "<div>\n",
       "<style scoped>\n",
       "    .dataframe tbody tr th:only-of-type {\n",
       "        vertical-align: middle;\n",
       "    }\n",
       "\n",
       "    .dataframe tbody tr th {\n",
       "        vertical-align: top;\n",
       "    }\n",
       "\n",
       "    .dataframe thead th {\n",
       "        text-align: right;\n",
       "    }\n",
       "</style>\n",
       "<table border=\"1\" class=\"dataframe\">\n",
       "  <thead>\n",
       "    <tr style=\"text-align: right;\">\n",
       "      <th></th>\n",
       "      <th>id</th>\n",
       "      <th>age</th>\n",
       "      <th>fbs</th>\n",
       "      <th>exang</th>\n",
       "      <th>num</th>\n",
       "    </tr>\n",
       "  </thead>\n",
       "  <tbody>\n",
       "    <tr>\n",
       "      <th>id</th>\n",
       "      <td>1.000000</td>\n",
       "      <td>0.239301</td>\n",
       "      <td>0.148983</td>\n",
       "      <td>0.166239</td>\n",
       "      <td>0.273552</td>\n",
       "    </tr>\n",
       "    <tr>\n",
       "      <th>age</th>\n",
       "      <td>0.239301</td>\n",
       "      <td>1.000000</td>\n",
       "      <td>0.219915</td>\n",
       "      <td>0.160910</td>\n",
       "      <td>0.339596</td>\n",
       "    </tr>\n",
       "    <tr>\n",
       "      <th>fbs</th>\n",
       "      <td>0.148983</td>\n",
       "      <td>0.219915</td>\n",
       "      <td>1.000000</td>\n",
       "      <td>-0.003475</td>\n",
       "      <td>0.129539</td>\n",
       "    </tr>\n",
       "    <tr>\n",
       "      <th>exang</th>\n",
       "      <td>0.166239</td>\n",
       "      <td>0.160910</td>\n",
       "      <td>-0.003475</td>\n",
       "      <td>1.000000</td>\n",
       "      <td>0.350567</td>\n",
       "    </tr>\n",
       "    <tr>\n",
       "      <th>num</th>\n",
       "      <td>0.273552</td>\n",
       "      <td>0.339596</td>\n",
       "      <td>0.129539</td>\n",
       "      <td>0.350567</td>\n",
       "      <td>1.000000</td>\n",
       "    </tr>\n",
       "  </tbody>\n",
       "</table>\n",
       "</div>"
      ],
      "text/plain": [
       "             id       age       fbs     exang       num\n",
       "id     1.000000  0.239301  0.148983  0.166239  0.273552\n",
       "age    0.239301  1.000000  0.219915  0.160910  0.339596\n",
       "fbs    0.148983  0.219915  1.000000 -0.003475  0.129539\n",
       "exang  0.166239  0.160910 -0.003475  1.000000  0.350567\n",
       "num    0.273552  0.339596  0.129539  0.350567  1.000000"
      ]
     },
     "execution_count": 105,
     "metadata": {},
     "output_type": "execute_result"
    }
   ],
   "source": [
    "df_num.corr()"
   ]
  },
  {
   "cell_type": "code",
   "execution_count": 106,
   "id": "b2f07609",
   "metadata": {},
   "outputs": [
    {
     "data": {
      "text/plain": [
       "id            int64\n",
       "age           int64\n",
       "sex          object\n",
       "dataset      object\n",
       "cp           object\n",
       "trestbps    float64\n",
       "chol        float64\n",
       "fbs           int32\n",
       "restecg      object\n",
       "thalch      float64\n",
       "exang         int32\n",
       "oldpeak     float64\n",
       "num           int64\n",
       "dtype: object"
      ]
     },
     "execution_count": 106,
     "metadata": {},
     "output_type": "execute_result"
    }
   ],
   "source": [
    "df.dtypes"
   ]
  },
  {
   "cell_type": "code",
   "execution_count": 107,
   "id": "42a6d4a4",
   "metadata": {},
   "outputs": [
    {
     "data": {
      "text/plain": [
       "sex\n",
       "Male      726\n",
       "Female    194\n",
       "Name: count, dtype: int64"
      ]
     },
     "execution_count": 107,
     "metadata": {},
     "output_type": "execute_result"
    }
   ],
   "source": [
    "df.sex.value_counts()"
   ]
  },
  {
   "cell_type": "code",
   "execution_count": 108,
   "id": "3e8f949c",
   "metadata": {},
   "outputs": [
    {
     "data": {
      "text/plain": [
       "<AxesSubplot: xlabel='age', ylabel='Count'>"
      ]
     },
     "execution_count": 108,
     "metadata": {},
     "output_type": "execute_result"
    },
    {
     "data": {
      "image/png": "[encoded data removed]",
      "text/plain": [
       "<Figure size 640x480 with 1 Axes>"
      ]
     },
     "metadata": {},
     "output_type": "display_data"
    }
   ],
   "source": [
    "\n",
    "sns.histplot(x=df['age'], hue=df['sex'], multiple=\"stack\")"
   ]
  },
  {
   "cell_type": "code",
   "execution_count": 109,
   "id": "c09f45a5",
   "metadata": {},
   "outputs": [
    {
     "data": {
      "text/plain": [
       "53.78787878787879"
      ]
     },
     "execution_count": 109,
     "metadata": {},
     "output_type": "execute_result"
    }
   ],
   "source": [
    "df[df['sex'] == 'Male']['age'].mean()\n"
   ]
  },
  {
   "cell_type": "code",
   "execution_count": 110,
   "id": "82518aae",
   "metadata": {},
   "outputs": [
    {
     "data": {
      "text/plain": [
       "52.47422680412371"
      ]
     },
     "execution_count": 110,
     "metadata": {},
     "output_type": "execute_result"
    }
   ],
   "source": [
    "df[df['sex'] == 'Female']['age'].mean()\n"
   ]
  },
  {
   "cell_type": "code",
   "execution_count": 112,
   "id": "93b3c6ba",
   "metadata": {},
   "outputs": [],
   "source": [
    "df_cleaned = df.dropna(subset=['chol'])"
   ]
  },
  {
   "cell_type": "code",
   "execution_count": 113,
   "id": "d86cddf3",
   "metadata": {},
   "outputs": [
    {
     "data": {
      "text/plain": [
       "<bound method Series.unique of 0      233.0\n",
       "1      286.0\n",
       "2      229.0\n",
       "3      250.0\n",
       "4      204.0\n",
       "       ...  \n",
       "915    333.0\n",
       "916    139.0\n",
       "917    223.0\n",
       "918    385.0\n",
       "919    254.0\n",
       "Name: chol, Length: 920, dtype: float64>"
      ]
     },
     "execution_count": 113,
     "metadata": {},
     "output_type": "execute_result"
    }
   ],
   "source": [
    "df_cleaned['chol'].unique"
   ]
  },
  {
   "cell_type": "code",
   "execution_count": 117,
   "id": "66f261da",
   "metadata": {},
   "outputs": [
    {
     "data": {
      "text/plain": [
       "chol\n",
       "0.0      172\n",
       "223.0     39\n",
       "220.0     10\n",
       "254.0     10\n",
       "230.0      9\n",
       "        ... \n",
       "360.0      1\n",
       "412.0      1\n",
       "358.0      1\n",
       "321.0      1\n",
       "385.0      1\n",
       "Name: count, Length: 217, dtype: int64"
      ]
     },
     "execution_count": 117,
     "metadata": {},
     "output_type": "execute_result"
    }
   ],
   "source": [
    "df.chol.value_counts()"
   ]
  },
  {
   "cell_type": "code",
   "execution_count": 118,
   "id": "1ba26dd4",
   "metadata": {},
   "outputs": [],
   "source": [
    "# Remove rows with 0.0 in 'chol' column\n",
    "df = df[df['chol'] != 0.0]\n"
   ]
  },
  {
   "cell_type": "code",
   "execution_count": 119,
   "id": "04bc7ff7",
   "metadata": {},
   "outputs": [
    {
     "data": {
      "text/plain": [
       "(748, 13)"
      ]
     },
     "execution_count": 119,
     "metadata": {},
     "output_type": "execute_result"
    }
   ],
   "source": [
    "df.shape"
   ]
  },
  {
   "cell_type": "code",
   "execution_count": 122,
   "id": "7b2f5367",
   "metadata": {},
   "outputs": [
    {
     "data": {
      "image/png": "[encoded data removed]",
      "text/plain": [
       "<Figure size 640x480 with 1 Axes>"
      ]
     },
     "metadata": {},
     "output_type": "display_data"
    }
   ],
   "source": [
    "sns.scatterplot(x=df['age'], y=df['chol'])\n",
    "plt.title(\"Cholesterol Levels vs Age\")\n",
    "plt.xlabel(\"Age\")\n",
    "plt.ylabel(\"Cholesterol\")\n",
    "plt.show()\n"
   ]
  },
  {
   "cell_type": "code",
   "execution_count": 111,
   "id": "6662ec24",
   "metadata": {},
   "outputs": [
    {
     "data": {
      "text/plain": [
       "Index(['id', 'age', 'sex', 'dataset', 'cp', 'trestbps', 'chol', 'fbs',\n",
       "       'restecg', 'thalch', 'exang', 'oldpeak', 'num'],\n",
       "      dtype='object')"
      ]
     },
     "execution_count": 111,
     "metadata": {},
     "output_type": "execute_result"
    }
   ],
   "source": [
    "df.columns"
   ]
  },
  {
   "cell_type": "code",
   "execution_count": 126,
   "id": "50cfc797",
   "metadata": {},
   "outputs": [
    {
     "data": {
      "text/html": [
       "<div>\n",
       "<style scoped>\n",
       "    .dataframe tbody tr th:only-of-type {\n",
       "        vertical-align: middle;\n",
       "    }\n",
       "\n",
       "    .dataframe tbody tr th {\n",
       "        vertical-align: top;\n",
       "    }\n",
       "\n",
       "    .dataframe thead th {\n",
       "        text-align: right;\n",
       "    }\n",
       "</style>\n",
       "<table border=\"1\" class=\"dataframe\">\n",
       "  <thead>\n",
       "    <tr style=\"text-align: right;\">\n",
       "      <th></th>\n",
       "      <th>id</th>\n",
       "      <th>age</th>\n",
       "      <th>sex</th>\n",
       "      <th>dataset</th>\n",
       "      <th>cp</th>\n",
       "      <th>trestbps</th>\n",
       "      <th>chol</th>\n",
       "      <th>fbs</th>\n",
       "      <th>restecg</th>\n",
       "      <th>thalch</th>\n",
       "      <th>exang</th>\n",
       "      <th>oldpeak</th>\n",
       "      <th>num</th>\n",
       "    </tr>\n",
       "  </thead>\n",
       "  <tbody>\n",
       "    <tr>\n",
       "      <th>0</th>\n",
       "      <td>1</td>\n",
       "      <td>63</td>\n",
       "      <td>Male</td>\n",
       "      <td>Cleveland</td>\n",
       "      <td>typical angina</td>\n",
       "      <td>145.000000</td>\n",
       "      <td>233.0</td>\n",
       "      <td>1</td>\n",
       "      <td>lv hypertrophy</td>\n",
       "      <td>150.000000</td>\n",
       "      <td>0</td>\n",
       "      <td>2.3</td>\n",
       "      <td>0</td>\n",
       "    </tr>\n",
       "    <tr>\n",
       "      <th>1</th>\n",
       "      <td>2</td>\n",
       "      <td>67</td>\n",
       "      <td>Male</td>\n",
       "      <td>Cleveland</td>\n",
       "      <td>asymptomatic</td>\n",
       "      <td>160.000000</td>\n",
       "      <td>286.0</td>\n",
       "      <td>0</td>\n",
       "      <td>lv hypertrophy</td>\n",
       "      <td>108.000000</td>\n",
       "      <td>1</td>\n",
       "      <td>1.5</td>\n",
       "      <td>2</td>\n",
       "    </tr>\n",
       "    <tr>\n",
       "      <th>2</th>\n",
       "      <td>3</td>\n",
       "      <td>67</td>\n",
       "      <td>Male</td>\n",
       "      <td>Cleveland</td>\n",
       "      <td>asymptomatic</td>\n",
       "      <td>120.000000</td>\n",
       "      <td>229.0</td>\n",
       "      <td>0</td>\n",
       "      <td>lv hypertrophy</td>\n",
       "      <td>129.000000</td>\n",
       "      <td>1</td>\n",
       "      <td>2.6</td>\n",
       "      <td>1</td>\n",
       "    </tr>\n",
       "    <tr>\n",
       "      <th>3</th>\n",
       "      <td>4</td>\n",
       "      <td>37</td>\n",
       "      <td>Male</td>\n",
       "      <td>Cleveland</td>\n",
       "      <td>non-anginal</td>\n",
       "      <td>130.000000</td>\n",
       "      <td>250.0</td>\n",
       "      <td>0</td>\n",
       "      <td>normal</td>\n",
       "      <td>187.000000</td>\n",
       "      <td>0</td>\n",
       "      <td>3.5</td>\n",
       "      <td>0</td>\n",
       "    </tr>\n",
       "    <tr>\n",
       "      <th>4</th>\n",
       "      <td>5</td>\n",
       "      <td>41</td>\n",
       "      <td>Female</td>\n",
       "      <td>Cleveland</td>\n",
       "      <td>atypical angina</td>\n",
       "      <td>130.000000</td>\n",
       "      <td>204.0</td>\n",
       "      <td>0</td>\n",
       "      <td>lv hypertrophy</td>\n",
       "      <td>172.000000</td>\n",
       "      <td>0</td>\n",
       "      <td>1.4</td>\n",
       "      <td>0</td>\n",
       "    </tr>\n",
       "    <tr>\n",
       "      <th>...</th>\n",
       "      <td>...</td>\n",
       "      <td>...</td>\n",
       "      <td>...</td>\n",
       "      <td>...</td>\n",
       "      <td>...</td>\n",
       "      <td>...</td>\n",
       "      <td>...</td>\n",
       "      <td>...</td>\n",
       "      <td>...</td>\n",
       "      <td>...</td>\n",
       "      <td>...</td>\n",
       "      <td>...</td>\n",
       "      <td>...</td>\n",
       "    </tr>\n",
       "    <tr>\n",
       "      <th>915</th>\n",
       "      <td>916</td>\n",
       "      <td>54</td>\n",
       "      <td>Female</td>\n",
       "      <td>VA Long Beach</td>\n",
       "      <td>asymptomatic</td>\n",
       "      <td>127.000000</td>\n",
       "      <td>333.0</td>\n",
       "      <td>1</td>\n",
       "      <td>st-t abnormality</td>\n",
       "      <td>154.000000</td>\n",
       "      <td>0</td>\n",
       "      <td>0.0</td>\n",
       "      <td>1</td>\n",
       "    </tr>\n",
       "    <tr>\n",
       "      <th>916</th>\n",
       "      <td>917</td>\n",
       "      <td>62</td>\n",
       "      <td>Male</td>\n",
       "      <td>VA Long Beach</td>\n",
       "      <td>typical angina</td>\n",
       "      <td>132.132404</td>\n",
       "      <td>139.0</td>\n",
       "      <td>0</td>\n",
       "      <td>st-t abnormality</td>\n",
       "      <td>137.545665</td>\n",
       "      <td>0</td>\n",
       "      <td>0.5</td>\n",
       "      <td>0</td>\n",
       "    </tr>\n",
       "    <tr>\n",
       "      <th>917</th>\n",
       "      <td>918</td>\n",
       "      <td>55</td>\n",
       "      <td>Male</td>\n",
       "      <td>VA Long Beach</td>\n",
       "      <td>asymptomatic</td>\n",
       "      <td>122.000000</td>\n",
       "      <td>223.0</td>\n",
       "      <td>1</td>\n",
       "      <td>st-t abnormality</td>\n",
       "      <td>100.000000</td>\n",
       "      <td>0</td>\n",
       "      <td>0.0</td>\n",
       "      <td>2</td>\n",
       "    </tr>\n",
       "    <tr>\n",
       "      <th>918</th>\n",
       "      <td>919</td>\n",
       "      <td>58</td>\n",
       "      <td>Male</td>\n",
       "      <td>VA Long Beach</td>\n",
       "      <td>asymptomatic</td>\n",
       "      <td>132.132404</td>\n",
       "      <td>385.0</td>\n",
       "      <td>1</td>\n",
       "      <td>lv hypertrophy</td>\n",
       "      <td>137.545665</td>\n",
       "      <td>0</td>\n",
       "      <td>0.5</td>\n",
       "      <td>0</td>\n",
       "    </tr>\n",
       "    <tr>\n",
       "      <th>919</th>\n",
       "      <td>920</td>\n",
       "      <td>62</td>\n",
       "      <td>Male</td>\n",
       "      <td>VA Long Beach</td>\n",
       "      <td>atypical angina</td>\n",
       "      <td>120.000000</td>\n",
       "      <td>254.0</td>\n",
       "      <td>0</td>\n",
       "      <td>lv hypertrophy</td>\n",
       "      <td>93.000000</td>\n",
       "      <td>1</td>\n",
       "      <td>0.0</td>\n",
       "      <td>1</td>\n",
       "    </tr>\n",
       "  </tbody>\n",
       "</table>\n",
       "<p>748 rows × 13 columns</p>\n",
       "</div>"
      ],
      "text/plain": [
       "      id  age     sex        dataset               cp    trestbps   chol  fbs  \\\n",
       "0      1   63    Male      Cleveland   typical angina  145.000000  233.0    1   \n",
       "1      2   67    Male      Cleveland     asymptomatic  160.000000  286.0    0   \n",
       "2      3   67    Male      Cleveland     asymptomatic  120.000000  229.0    0   \n",
       "3      4   37    Male      Cleveland      non-anginal  130.000000  250.0    0   \n",
       "4      5   41  Female      Cleveland  atypical angina  130.000000  204.0    0   \n",
       "..   ...  ...     ...            ...              ...         ...    ...  ...   \n",
       "915  916   54  Female  VA Long Beach     asymptomatic  127.000000  333.0    1   \n",
       "916  917   62    Male  VA Long Beach   typical angina  132.132404  139.0    0   \n",
       "917  918   55    Male  VA Long Beach     asymptomatic  122.000000  223.0    1   \n",
       "918  919   58    Male  VA Long Beach     asymptomatic  132.132404  385.0    1   \n",
       "919  920   62    Male  VA Long Beach  atypical angina  120.000000  254.0    0   \n",
       "\n",
       "              restecg      thalch  exang  oldpeak  num  \n",
       "0      lv hypertrophy  150.000000      0      2.3    0  \n",
       "1      lv hypertrophy  108.000000      1      1.5    2  \n",
       "2      lv hypertrophy  129.000000      1      2.6    1  \n",
       "3              normal  187.000000      0      3.5    0  \n",
       "4      lv hypertrophy  172.000000      0      1.4    0  \n",
       "..                ...         ...    ...      ...  ...  \n",
       "915  st-t abnormality  154.000000      0      0.0    1  \n",
       "916  st-t abnormality  137.545665      0      0.5    0  \n",
       "917  st-t abnormality  100.000000      0      0.0    2  \n",
       "918    lv hypertrophy  137.545665      0      0.5    0  \n",
       "919    lv hypertrophy   93.000000      1      0.0    1  \n",
       "\n",
       "[748 rows x 13 columns]"
      ]
     },
     "execution_count": 126,
     "metadata": {},
     "output_type": "execute_result"
    }
   ],
   "source": [
    "df"
   ]
  },
  {
   "cell_type": "code",
   "execution_count": 129,
   "id": "b314633d",
   "metadata": {},
   "outputs": [
    {
     "data": {
      "image/png": "[encoded data removed]",
      "text/plain": [
       "<Figure size 640x480 with 1 Axes>"
      ]
     },
     "metadata": {},
     "output_type": "display_data"
    }
   ],
   "source": [
    "sns.barplot(x=df['sex'], y=df['chol'])\n",
    "plt.title(\"Sex vs Chol\")\n",
    "plt.xlabel(\"Sex\")\n",
    "plt.ylabel(\"Chol\")\n",
    "plt.show()"
   ]
  },
  {
   "cell_type": "code",
   "execution_count": 130,
   "id": "c57b0ed6",
   "metadata": {},
   "outputs": [
    {
     "data": {
      "image/png": "[encoded data removed]",
      "text/plain": [
       "<Figure size 640x480 with 1 Axes>"
      ]
     },
     "metadata": {},
     "output_type": "display_data"
    }
   ],
   "source": [
    "sns.barplot(x=df['sex'], y=df['thalch'])\n",
    "plt.title(\"Sex vs thalch\")\n",
    "plt.xlabel(\"Sex\")\n",
    "plt.ylabel(\"thalch\")\n",
    "plt.show()"
   ]
  },
  {
   "cell_type": "code",
   "execution_count": 125,
   "id": "7ad7b072",
   "metadata": {},
   "outputs": [
    {
     "data": {
      "image/png": "[encoded data removed]",
      "text/plain": [
       "<Figure size 640x480 with 1 Axes>"
      ]
     },
     "metadata": {},
     "output_type": "display_data"
    }
   ],
   "source": [
    "sns.barplot(x=df['sex'], y=df['fbs'])\n",
    "plt.title(\"Sex vs fbs\")\n",
    "plt.xlabel(\"Sex\")\n",
    "plt.ylabel(\"fbs\")\n",
    "plt.show()"
   ]
  },
  {
   "cell_type": "code",
   "execution_count": null,
   "id": "d00e6d1e",
   "metadata": {},
   "outputs": [],
   "source": []
  }
 ],
 "metadata": {
  "kernelspec": {
   "display_name": "Python 3 (ipykernel)",
   "language": "python",
   "name": "python3"
  },
  "language_info": {
   "codemirror_mode": {
    "name": "ipython",
    "version": 3
   },
   "file_extension": ".py",
   "mimetype": "text/x-python",
   "name": "python",
   "nbconvert_exporter": "python",
   "pygments_lexer": "ipython3",
   "version": "3.8.0"
  }
 },
 "nbformat": 4,
 "nbformat_minor": 5
}
